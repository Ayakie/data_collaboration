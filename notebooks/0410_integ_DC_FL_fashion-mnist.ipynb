{
 "cells": [
  {
   "cell_type": "code",
   "execution_count": 1,
   "metadata": {
    "colab": {
     "base_uri": "https://localhost:8080/",
     "height": 385
    },
    "colab_type": "code",
    "id": "udx7PPt8EYb5",
    "outputId": "ad7c7881-bd21-44ae-bbf8-59d9c90946c0"
   },
   "outputs": [
    {
     "name": "stderr",
     "output_type": "stream",
     "text": [
      "Using TensorFlow backend.\n"
     ]
    }
   ],
   "source": [
    "import numpy as np\n",
    "import pandas as pd\n",
    "import numpy.matlib\n",
    "import scipy as sc\n",
    "import random\n",
    "import datetime\n",
    "from keras.datasets import fashion_mnist\n",
    "\n",
    "from sklearn.neighbors import KNeighborsClassifier\n",
    "from sklearn.preprocessing import normalize\n",
    "from sklearn.metrics import accuracy_score\n",
    "import matplotlib.pyplot as plt\n",
    "from collections import Counter\n",
    "from tqdm import tqdm\n",
    "\n",
    "import seaborn as sns\n",
    "sns.set_palette('Set2', n_colors=5)\n",
    "sns.set_style('darkgrid')\n",
    "sns.set_context(font_scale=1.3)\n",
    "import matplotlib.pyplot as plt\n",
    "%matplotlib inline"
   ]
  },
  {
   "cell_type": "code",
   "execution_count": 2,
   "metadata": {
    "colab": {},
    "colab_type": "code",
    "id": "xHXMwo8LEYb9"
   },
   "outputs": [],
   "source": [
    "def sampling_noniid(X_train, label_train,  num_users, ndat, nlabel):\n",
    "    '''Sample non-I.I.D user data from MNIST dataset\n",
    "    Parameters\n",
    "    ----------\n",
    "    nlabel: int(1~9)\n",
    "        number of different types of labels which each user has\n",
    "\n",
    "    Return\n",
    "    -------\n",
    "    list of ndat samples index of each user\n",
    "    '''\n",
    "    num_shards, num_imgs = nlabel*num_users, int(ndat//nlabel)\n",
    "    idx_shard = [i for i in range(num_shards)]\n",
    "    \n",
    "    ntrain = num_users * ndat\n",
    "\n",
    "    # sort labels\n",
    "    idx_label_pair = [(i, label) for i, label in enumerate(label_train[:ntrain])]\n",
    "    idx_label_pair = sorted(idx_label_pair, key=lambda x:x[1])\n",
    "    idx_sorted = [pair[0] for pair in idx_label_pair]\n",
    "\n",
    "    # divide and assign nlabel number of label per user\n",
    "    # dict_users = {i: np.array([], dtype=int) for i in range(num_users)}\n",
    "    list_users = []\n",
    "    for i in range(num_users):\n",
    "        user_idx = []\n",
    "        rand_set = set(np.random.choice(idx_shard, nlabel, replace=False))\n",
    "        idx_shard = list(set(idx_shard) - rand_set)\n",
    "        for rand in rand_set:\n",
    "            user_idx = np.hstack((user_idx, idx_sorted[rand*num_imgs:(rand+1)*num_imgs]))\n",
    "            user_idx = user_idx.astype(int).tolist() # convert dtype from float to int\n",
    "        list_users.append(user_idx)\n",
    "\n",
    "    return list_users"
   ]
  },
  {
   "cell_type": "code",
   "execution_count": 3,
   "metadata": {},
   "outputs": [],
   "source": [
    "def sampling_noniid_anna(X_train, label_train, num_users, ndat):\n",
    "    # line up labels by portions of 50\n",
    "    ind1= []\n",
    "    for i in range(10):\n",
    "        counter = 0\n",
    "        for j, label in enumerate(label_train):\n",
    "            if label == i:\n",
    "                ind1.append(j)\n",
    "                counter += 1\n",
    "            if counter >= 50:\n",
    "                break\n",
    "    \n",
    "    user_list = []\n",
    "    for i in range(num_users):\n",
    "        start = i * ndat\n",
    "        end = start + ndat\n",
    "        user_list.append(ind1[start:end])\n",
    "    \n",
    "    return user_list\n",
    "\n",
    "def sampling_iid(X_train, num_users, ndat):\n",
    "    ntrain = ndat * num_users\n",
    "    ind1 = np.random.choice(len(X_train), ntrain, replace=False)\n",
    "    \n",
    "    user_list = []\n",
    "    for i in range(num_users):\n",
    "        start = i*ndat\n",
    "        end = start + ndat\n",
    "        user_list.append(ind1[start:end])\n",
    "    \n",
    "    return user_list"
   ]
  },
  {
   "cell_type": "code",
   "execution_count": 4,
   "metadata": {
    "colab": {},
    "colab_type": "code",
    "id": "afI-2dpSEYcA"
   },
   "outputs": [],
   "source": [
    "# Simple KNN Classifier\n",
    "def set_data(ndat, nparts, ntest, non_iid='True'):\n",
    "    \n",
    "    (Xtrain, ytrain), (Xtest, ytest) = fashion_mnist.load_data()\n",
    "    ind2 = np.random.choice(10000,ntest,replace=False)\n",
    "    \n",
    "    ntrain = ndat*nparts\n",
    "    \n",
    "    if non_iid == 'False':\n",
    "        # random choice\n",
    "        user_list = sampling_iid(Xtrain, nparts, ndat)\n",
    "    elif non_iid == 'True':\n",
    "        user_list = sampling_noniid(Xtrain, ytrain, nparts, ndat, nlabel=2)\n",
    "    elif non_iid == 'Full_non_iid':\n",
    "        user_list = sampling_noniid_anna(Xtrain, ytrain, nparts, ndat)\n",
    "\n",
    "#     Xtest = Xtest[:ntest]\n",
    "#     ytest = ytest[:ntest]\n",
    "    \n",
    "    Xtest = Xtest[ind2]\n",
    "    ytest = ytest[ind2]\n",
    "    \n",
    "    \n",
    "    # reshape\n",
    "    Xtrain = normalize(Xtrain.reshape(Xtrain.shape[0], -1))\n",
    "    Xtest = normalize(Xtest.reshape(Xtest.shape[0], -1))\n",
    "#     Xtrain = Xtrain.reshape(Xtrain.shape[0], -1) / 255\n",
    "#     Xtest = Xtest.reshape(Xtest.shape[0], -1) / 255\n",
    "    \n",
    "    \n",
    "    return Xtrain, ytrain, Xtest, ytest, user_list\n",
    "\n",
    "\n",
    "def knn_cls(Xtrain, Xtest, ytrain, ytest): \n",
    "    model = KNeighborsClassifier(n_neighbors=6)\n",
    "    model.fit(Xtrain, ytrain.ravel())\n",
    "    score = model.score(Xtest, ytest.ravel())\n",
    "    \n",
    "    return score"
   ]
  },
  {
   "cell_type": "code",
   "execution_count": 5,
   "metadata": {},
   "outputs": [],
   "source": [
    "\n",
    "nparts = 5            # number of parties\n",
    "ndat = 100            # size of data portions\n",
    "ntest = 1000          # size of test data\n",
    "ntrain = nparts*ndat  # size of all training data\n",
    "nanc = 200           # number of anchor data\n",
    "repeat = 10           # number of repeated experiments\n",
    "dd=12\n"
   ]
  },
  {
   "cell_type": "code",
   "execution_count": 7,
   "metadata": {
    "scrolled": true
   },
   "outputs": [
    {
     "name": "stderr",
     "output_type": "stream",
     "text": [
      "\r",
      "  0%|          | 0/10 [00:00<?, ?it/s]"
     ]
    },
    {
     "name": "stdout",
     "output_type": "stream",
     "text": [
      "User1: Counter({0: 50, 1: 50})\n",
      "User2: Counter({2: 50, 3: 50})\n",
      "User3: Counter({4: 50, 5: 50})\n",
      "User4: Counter({6: 50, 7: 50})\n",
      "User5: Counter({8: 50, 9: 50})\n"
     ]
    },
    {
     "name": "stderr",
     "output_type": "stream",
     "text": [
      "\r",
      " 10%|█         | 1/10 [00:05<00:49,  5.52s/it]"
     ]
    },
    {
     "name": "stdout",
     "output_type": "stream",
     "text": [
      "User1: Counter({0: 50, 1: 50})\n",
      "User2: Counter({2: 50, 3: 50})\n",
      "User3: Counter({4: 50, 5: 50})\n",
      "User4: Counter({6: 50, 7: 50})\n",
      "User5: Counter({8: 50, 9: 50})\n"
     ]
    },
    {
     "name": "stderr",
     "output_type": "stream",
     "text": [
      "\r",
      " 20%|██        | 2/10 [00:10<00:43,  5.46s/it]"
     ]
    },
    {
     "name": "stdout",
     "output_type": "stream",
     "text": [
      "User1: Counter({0: 50, 1: 50})\n",
      "User2: Counter({2: 50, 3: 50})\n",
      "User3: Counter({4: 50, 5: 50})\n",
      "User4: Counter({6: 50, 7: 50})\n",
      "User5: Counter({8: 50, 9: 50})\n"
     ]
    },
    {
     "name": "stderr",
     "output_type": "stream",
     "text": [
      "\r",
      " 30%|███       | 3/10 [00:16<00:38,  5.44s/it]"
     ]
    },
    {
     "name": "stdout",
     "output_type": "stream",
     "text": [
      "User1: Counter({0: 50, 1: 50})\n",
      "User2: Counter({2: 50, 3: 50})\n",
      "User3: Counter({4: 50, 5: 50})\n",
      "User4: Counter({6: 50, 7: 50})\n",
      "User5: Counter({8: 50, 9: 50})\n"
     ]
    },
    {
     "name": "stderr",
     "output_type": "stream",
     "text": [
      "\r",
      " 40%|████      | 4/10 [00:21<00:32,  5.43s/it]"
     ]
    },
    {
     "name": "stdout",
     "output_type": "stream",
     "text": [
      "User1: Counter({0: 50, 1: 50})\n",
      "User2: Counter({2: 50, 3: 50})\n",
      "User3: Counter({4: 50, 5: 50})\n",
      "User4: Counter({6: 50, 7: 50})\n",
      "User5: Counter({8: 50, 9: 50})\n"
     ]
    },
    {
     "name": "stderr",
     "output_type": "stream",
     "text": [
      "\r",
      " 50%|█████     | 5/10 [00:27<00:27,  5.53s/it]"
     ]
    },
    {
     "name": "stdout",
     "output_type": "stream",
     "text": [
      "User1: Counter({0: 50, 1: 50})\n",
      "User2: Counter({2: 50, 3: 50})\n",
      "User3: Counter({4: 50, 5: 50})\n",
      "User4: Counter({6: 50, 7: 50})\n",
      "User5: Counter({8: 50, 9: 50})\n"
     ]
    },
    {
     "name": "stderr",
     "output_type": "stream",
     "text": [
      "\r",
      " 60%|██████    | 6/10 [00:32<00:22,  5.55s/it]"
     ]
    },
    {
     "name": "stdout",
     "output_type": "stream",
     "text": [
      "User1: Counter({0: 50, 1: 50})\n",
      "User2: Counter({2: 50, 3: 50})\n",
      "User3: Counter({4: 50, 5: 50})\n",
      "User4: Counter({6: 50, 7: 50})\n",
      "User5: Counter({8: 50, 9: 50})\n"
     ]
    },
    {
     "name": "stderr",
     "output_type": "stream",
     "text": [
      "\r",
      " 70%|███████   | 7/10 [00:38<00:16,  5.48s/it]"
     ]
    },
    {
     "name": "stdout",
     "output_type": "stream",
     "text": [
      "User1: Counter({0: 50, 1: 50})\n",
      "User2: Counter({2: 50, 3: 50})\n",
      "User3: Counter({4: 50, 5: 50})\n",
      "User4: Counter({6: 50, 7: 50})\n",
      "User5: Counter({8: 50, 9: 50})\n"
     ]
    },
    {
     "name": "stderr",
     "output_type": "stream",
     "text": [
      "\r",
      " 80%|████████  | 8/10 [00:44<00:11,  5.58s/it]"
     ]
    },
    {
     "name": "stdout",
     "output_type": "stream",
     "text": [
      "User1: Counter({0: 50, 1: 50})\n",
      "User2: Counter({2: 50, 3: 50})\n",
      "User3: Counter({4: 50, 5: 50})\n",
      "User4: Counter({6: 50, 7: 50})\n",
      "User5: Counter({8: 50, 9: 50})\n"
     ]
    },
    {
     "name": "stderr",
     "output_type": "stream",
     "text": [
      "\r",
      " 90%|█████████ | 9/10 [00:49<00:05,  5.57s/it]"
     ]
    },
    {
     "name": "stdout",
     "output_type": "stream",
     "text": [
      "User1: Counter({0: 50, 1: 50})\n",
      "User2: Counter({2: 50, 3: 50})\n",
      "User3: Counter({4: 50, 5: 50})\n",
      "User4: Counter({6: 50, 7: 50})\n",
      "User5: Counter({8: 50, 9: 50})\n"
     ]
    },
    {
     "name": "stderr",
     "output_type": "stream",
     "text": [
      "100%|██████████| 10/10 [00:55<00:00,  5.53s/it]"
     ]
    },
    {
     "name": "stdout",
     "output_type": "stream",
     "text": [
      "Averaged over 10 runs\n",
      "Centralized average accuracy: [0.19 0.36 0.49 0.58 0.74]\n",
      "Individual average accuracy: [0.19 0.19 0.19 0.19 0.19]\n",
      "Collaboration average accuracy: [0.19 0.24 0.26 0.29 0.28]\n"
     ]
    },
    {
     "name": "stderr",
     "output_type": "stream",
     "text": [
      "\n"
     ]
    }
   ],
   "source": [
    "from utils import *\n",
    "\n",
    "acc_cntr = np.zeros([repeat, nparts])\n",
    "acc_ind = np.zeros([repeat, nparts])\n",
    "acc_dc = np.zeros([repeat, nparts])\n",
    "\n",
    "\n",
    "for r in tqdm(range(repeat)):\n",
    "    random.seed(r)\n",
    "    for ii in range(nparts):\n",
    "        \n",
    "        Xtrain, ytrain, Xtest, ytest, user_list = set_data(ndat, nparts, ntest, non_iid='Full_non_iid')\n",
    "        assert len(user_list) == nparts\n",
    "        anc = make_anchors(Xtrain, nanc)\n",
    "\n",
    "        print(f'User{ii+1}: {Counter(ytrain[user_list[ii]])}')\n",
    "            \n",
    "\n",
    "        # Main\n",
    "        # train classifier on all data\n",
    "        \n",
    "        idx_all = np.ravel(user_list[:ii+1]).tolist()\n",
    "        X_all = Xtrain[idx_all]\n",
    "        y_all = ytrain[idx_all]\n",
    "\n",
    "        cntr = knn_cls(X_all, Xtest, y_all, ytest)\n",
    "        acc_cntr[r, ii] = cntr\n",
    "        \n",
    "        if ii == 0:\n",
    "            # train classifier on data of one user\n",
    "            ind = cntr\n",
    "        acc_ind[r, ii] = ind\n",
    "\n",
    "\n",
    "        # Proposed method\n",
    "        \n",
    "        # pseudo-split of data\n",
    "        Div_data = []\n",
    "        for i in range(ii+1):\n",
    "            Div_data.append({'X':Xtrain[user_list[i]], 'anc':anc, 'Xtest':Xtest}) \n",
    "        \n",
    "        X_dc, X_test_dc = data_collaboration(Div_data, dd)\n",
    "        assert len(X_dc) == len(X_all)\n",
    "        \n",
    "        dc = knn_cls(X_dc, X_test_dc, y_all, ytest)\n",
    "        acc_dc[r, ii] = dc\n",
    "\n",
    "knn_cntr = np.around(np.mean(acc_cntr, 0), decimals=2)\n",
    "knn_ind = np.around(np.mean(acc_ind, 0), decimals=2)\n",
    "knn_dc = np.around(np.mean(acc_dc, 0), decimals=2)\n",
    "\n",
    "print('Averaged over {} runs'.format(repeat))\n",
    "print('Centralized average accuracy:', knn_cntr)\n",
    "print('Individual average accuracy:', knn_ind)\n",
    "print('Collaboration average accuracy:', knn_dc)"
   ]
  },
  {
   "cell_type": "code",
   "execution_count": 8,
   "metadata": {
    "colab": {},
    "colab_type": "code",
    "id": "JKG3XrrnEYcN",
    "outputId": "c70fbff1-35dc-4d40-a321-e2673ebfb722",
    "scrolled": false
   },
   "outputs": [
    {
     "data": {
      "text/plain": [
       "<matplotlib.legend.Legend at 0x118e951d0>"
      ]
     },
     "execution_count": 8,
     "metadata": {},
     "output_type": "execute_result"
    },
    {
     "data": {
      "image/png": "[encoded data removed]",
      "text/plain": [
       "<Figure size 1080x360 with 1 Axes>"
      ]
     },
     "metadata": {},
     "output_type": "display_data"
    }
   ],
   "source": [
    "plt.figure(figsize=(15,5))\n",
    "plt.plot(knn_cntr, label='Centralized data analysis')\n",
    "plt.plot(knn_ind, label='Individual data analysis')\n",
    "plt.plot(knn_dc, label='Data Collaboration analysis')\n",
    "plt.ylabel('Accuracy')\n",
    "plt.xlabel('Amount of data / Number of partitions')\n",
    "locs, labels = plt.xticks()\n",
    "plt.xticks(np.arange(0, 5, step = 1), ('100/1', '200/2', '300/3', '400/4', '500/5'))\n",
    "plt.title(\"Accuracy (Fashion-Mnist)\")\n",
    "plt.legend()"
   ]
  },
  {
   "cell_type": "code",
   "execution_count": 9,
   "metadata": {
    "colab": {},
    "colab_type": "code",
    "id": "M4d6GPiYEYcS",
    "outputId": "5b529228-9b18-48f6-85cf-8d8facc1a4b4",
    "scrolled": true
   },
   "outputs": [
    {
     "name": "stdout",
     "output_type": "stream",
     "text": [
      "Train on 500 samples, validate on 1000 samples\n",
      "Epoch 1/12\n",
      "500/500 [==============================] - 0s 958us/sample - loss: 2.1085 - sparse_categorical_accuracy: 0.3660 - val_loss: 1.7747 - val_sparse_categorical_accuracy: 0.5300\n",
      "Epoch 2/12\n",
      "500/500 [==============================] - 0s 205us/sample - loss: 1.5339 - sparse_categorical_accuracy: 0.5100 - val_loss: 1.2237 - val_sparse_categorical_accuracy: 0.6520\n",
      "Epoch 3/12\n",
      "500/500 [==============================] - 0s 211us/sample - loss: 1.0921 - sparse_categorical_accuracy: 0.6280 - val_loss: 0.9796 - val_sparse_categorical_accuracy: 0.6960\n",
      "Epoch 4/12\n",
      "500/500 [==============================] - 0s 203us/sample - loss: 0.9065 - sparse_categorical_accuracy: 0.6640 - val_loss: 0.8739 - val_sparse_categorical_accuracy: 0.6900\n",
      "Epoch 5/12\n",
      "500/500 [==============================] - 0s 207us/sample - loss: 0.7779 - sparse_categorical_accuracy: 0.7260 - val_loss: 0.8077 - val_sparse_categorical_accuracy: 0.6930\n",
      "Epoch 6/12\n",
      "500/500 [==============================] - 0s 207us/sample - loss: 0.7170 - sparse_categorical_accuracy: 0.7460 - val_loss: 0.7628 - val_sparse_categorical_accuracy: 0.7250\n",
      "Epoch 7/12\n",
      "500/500 [==============================] - 0s 207us/sample - loss: 0.6627 - sparse_categorical_accuracy: 0.7520 - val_loss: 0.7464 - val_sparse_categorical_accuracy: 0.7210\n",
      "Epoch 8/12\n",
      "500/500 [==============================] - 0s 208us/sample - loss: 0.5994 - sparse_categorical_accuracy: 0.7780 - val_loss: 0.7006 - val_sparse_categorical_accuracy: 0.7510\n",
      "Epoch 9/12\n",
      "500/500 [==============================] - 0s 203us/sample - loss: 0.5436 - sparse_categorical_accuracy: 0.8100 - val_loss: 0.6934 - val_sparse_categorical_accuracy: 0.7550\n",
      "Epoch 10/12\n",
      "500/500 [==============================] - 0s 204us/sample - loss: 0.4940 - sparse_categorical_accuracy: 0.8360 - val_loss: 0.7175 - val_sparse_categorical_accuracy: 0.7420\n",
      "Epoch 11/12\n",
      "500/500 [==============================] - 0s 202us/sample - loss: 0.4688 - sparse_categorical_accuracy: 0.8460 - val_loss: 0.6887 - val_sparse_categorical_accuracy: 0.7380\n",
      "Epoch 12/12\n",
      "500/500 [==============================] - 0s 204us/sample - loss: 0.4561 - sparse_categorical_accuracy: 0.8460 - val_loss: 0.6873 - val_sparse_categorical_accuracy: 0.7500\n"
     ]
    }
   ],
   "source": [
    "centralized_model = create_compiled_keras_model(Xtrain.shape[1])\n",
    "cntr_history_callback =centralized_model.fit(X_all, y_all, validation_data= (Xtest, ytest), batch_size=32, epochs=12) "
   ]
  },
  {
   "cell_type": "code",
   "execution_count": 10,
   "metadata": {
    "colab": {},
    "colab_type": "code",
    "id": "4iTyTPF7EYcU",
    "outputId": "c38df8a1-aada-4206-9b20-8a4321e0601f",
    "scrolled": true
   },
   "outputs": [
    {
     "name": "stdout",
     "output_type": "stream",
     "text": [
      "Train on 100 samples, validate on 1000 samples\n",
      "Epoch 1/12\n",
      "100/100 [==============================] - 0s 3ms/sample - loss: 2.1758 - sparse_categorical_accuracy: 0.5500 - val_loss: 2.2803 - val_sparse_categorical_accuracy: 0.2030\n",
      "Epoch 2/12\n",
      "100/100 [==============================] - 0s 531us/sample - loss: 1.6305 - sparse_categorical_accuracy: 0.8700 - val_loss: 2.3610 - val_sparse_categorical_accuracy: 0.2010\n",
      "Epoch 3/12\n",
      "100/100 [==============================] - 0s 555us/sample - loss: 0.9927 - sparse_categorical_accuracy: 0.8800 - val_loss: 2.7931 - val_sparse_categorical_accuracy: 0.2110\n",
      "Epoch 4/12\n",
      "100/100 [==============================] - 0s 544us/sample - loss: 0.4887 - sparse_categorical_accuracy: 0.9200 - val_loss: 3.7302 - val_sparse_categorical_accuracy: 0.2120\n",
      "Epoch 5/12\n",
      "100/100 [==============================] - 0s 544us/sample - loss: 0.2939 - sparse_categorical_accuracy: 0.9100 - val_loss: 4.8170 - val_sparse_categorical_accuracy: 0.2120\n",
      "Epoch 6/12\n",
      "100/100 [==============================] - 0s 555us/sample - loss: 0.2128 - sparse_categorical_accuracy: 0.9400 - val_loss: 5.8905 - val_sparse_categorical_accuracy: 0.2080\n",
      "Epoch 7/12\n",
      "100/100 [==============================] - 0s 530us/sample - loss: 0.1836 - sparse_categorical_accuracy: 0.9300 - val_loss: 6.5753 - val_sparse_categorical_accuracy: 0.2090\n",
      "Epoch 8/12\n",
      "100/100 [==============================] - 0s 537us/sample - loss: 0.1323 - sparse_categorical_accuracy: 0.9400 - val_loss: 6.7566 - val_sparse_categorical_accuracy: 0.2120\n",
      "Epoch 9/12\n",
      "100/100 [==============================] - 0s 587us/sample - loss: 0.1171 - sparse_categorical_accuracy: 0.9600 - val_loss: 7.0328 - val_sparse_categorical_accuracy: 0.2110\n",
      "Epoch 10/12\n",
      "100/100 [==============================] - 0s 586us/sample - loss: 0.1215 - sparse_categorical_accuracy: 0.9600 - val_loss: 7.4343 - val_sparse_categorical_accuracy: 0.2140\n",
      "Epoch 11/12\n",
      "100/100 [==============================] - 0s 589us/sample - loss: 0.1363 - sparse_categorical_accuracy: 0.9200 - val_loss: 7.7068 - val_sparse_categorical_accuracy: 0.2100\n",
      "Epoch 12/12\n",
      "100/100 [==============================] - 0s 599us/sample - loss: 0.1283 - sparse_categorical_accuracy: 0.9400 - val_loss: 7.4305 - val_sparse_categorical_accuracy: 0.2140\n"
     ]
    }
   ],
   "source": [
    "X_ind, y_ind = Div_data[0]['X'], ytrain[user_list[0]]\n",
    "individual_model = create_compiled_keras_model(X_ind.shape[1])\n",
    "ind_history_callback = individual_model.fit(X_ind, y_ind, validation_data=(Xtest, ytest),\n",
    "                                            batch_size=32, epochs=12)"
   ]
  },
  {
   "cell_type": "code",
   "execution_count": 11,
   "metadata": {
    "colab": {},
    "colab_type": "code",
    "id": "SgIyqf-aEYcX",
    "outputId": "37d51ef6-01f8-461b-e775-a72be6a898b2",
    "scrolled": true
   },
   "outputs": [
    {
     "name": "stdout",
     "output_type": "stream",
     "text": [
      "Train on 500 samples, validate on 1000 samples\n",
      "Epoch 1/12\n",
      "500/500 [==============================] - 0s 772us/sample - loss: 2.2779 - sparse_categorical_accuracy: 0.3540 - val_loss: 2.2703 - val_sparse_categorical_accuracy: 0.3670\n",
      "Epoch 2/12\n",
      "500/500 [==============================] - 0s 116us/sample - loss: 2.1843 - sparse_categorical_accuracy: 0.5380 - val_loss: 2.2107 - val_sparse_categorical_accuracy: 0.3530\n",
      "Epoch 3/12\n",
      "500/500 [==============================] - 0s 135us/sample - loss: 2.0058 - sparse_categorical_accuracy: 0.6480 - val_loss: 2.1373 - val_sparse_categorical_accuracy: 0.3710\n",
      "Epoch 4/12\n",
      "500/500 [==============================] - 0s 121us/sample - loss: 1.7492 - sparse_categorical_accuracy: 0.6160 - val_loss: 2.0830 - val_sparse_categorical_accuracy: 0.3510\n",
      "Epoch 5/12\n",
      "500/500 [==============================] - 0s 125us/sample - loss: 1.4768 - sparse_categorical_accuracy: 0.6500 - val_loss: 2.0649 - val_sparse_categorical_accuracy: 0.4070\n",
      "Epoch 6/12\n",
      "500/500 [==============================] - 0s 121us/sample - loss: 1.2614 - sparse_categorical_accuracy: 0.6920 - val_loss: 2.1545 - val_sparse_categorical_accuracy: 0.4230\n",
      "Epoch 7/12\n",
      "500/500 [==============================] - 0s 115us/sample - loss: 1.1036 - sparse_categorical_accuracy: 0.7220 - val_loss: 2.0914 - val_sparse_categorical_accuracy: 0.4210\n",
      "Epoch 8/12\n",
      "500/500 [==============================] - 0s 113us/sample - loss: 0.9738 - sparse_categorical_accuracy: 0.7480 - val_loss: 2.2682 - val_sparse_categorical_accuracy: 0.4350\n",
      "Epoch 9/12\n",
      "500/500 [==============================] - 0s 106us/sample - loss: 0.8915 - sparse_categorical_accuracy: 0.7680 - val_loss: 2.2102 - val_sparse_categorical_accuracy: 0.4410\n",
      "Epoch 10/12\n",
      "500/500 [==============================] - 0s 109us/sample - loss: 0.8405 - sparse_categorical_accuracy: 0.7620 - val_loss: 2.3649 - val_sparse_categorical_accuracy: 0.4390\n",
      "Epoch 11/12\n",
      "500/500 [==============================] - 0s 109us/sample - loss: 0.7944 - sparse_categorical_accuracy: 0.7620 - val_loss: 2.4021 - val_sparse_categorical_accuracy: 0.4230\n",
      "Epoch 12/12\n",
      "500/500 [==============================] - 0s 110us/sample - loss: 0.7723 - sparse_categorical_accuracy: 0.7800 - val_loss: 2.4302 - val_sparse_categorical_accuracy: 0.4370\n"
     ]
    }
   ],
   "source": [
    "X_dc, X_test_dc = data_collaboration(Div_data, dd)\n",
    "dc_model = create_compiled_keras_model(X_dc.shape[1])\n",
    "dc_history_callback = dc_model.fit(X_dc, y_all, validation_data=(X_test_dc, ytest),\n",
    "                                   batch_size=32, epochs=12)"
   ]
  },
  {
   "cell_type": "code",
   "execution_count": 12,
   "metadata": {
    "colab": {},
    "colab_type": "code",
    "id": "a0lc84TrEYcZ",
    "outputId": "f317863a-8432-449f-c11a-430f15087490",
    "scrolled": true
   },
   "outputs": [
    {
     "name": "stdout",
     "output_type": "stream",
     "text": [
      "Epoch 1/12\n",
      "60000/60000 [==============================] - 2s 27us/sample - loss: 2.2237 - sparse_categorical_accuracy: 0.1045\n",
      "1000/1000 [==============================] - 0s 111us/sample - loss: 2.2206 - sparse_categorical_accuracy: 0.1000\n",
      "Epoch 2/12\n",
      "60000/60000 [==============================] - 1s 25us/sample - loss: 2.0913 - sparse_categorical_accuracy: 0.4628\n",
      "1000/1000 [==============================] - 0s 32us/sample - loss: 2.0861 - sparse_categorical_accuracy: 0.4610\n",
      "Epoch 3/12\n",
      "60000/60000 [==============================] - 2s 27us/sample - loss: 1.9454 - sparse_categorical_accuracy: 0.4657\n",
      "1000/1000 [==============================] - 0s 33us/sample - loss: 1.9400 - sparse_categorical_accuracy: 0.4780\n",
      "Epoch 4/12\n",
      "60000/60000 [==============================] - 2s 27us/sample - loss: 1.8228 - sparse_categorical_accuracy: 0.4119\n",
      "1000/1000 [==============================] - 0s 35us/sample - loss: 1.8175 - sparse_categorical_accuracy: 0.4380\n",
      "Epoch 5/12\n",
      "60000/60000 [==============================] - 2s 26us/sample - loss: 1.7168 - sparse_categorical_accuracy: 0.4129\n",
      "1000/1000 [==============================] - 0s 32us/sample - loss: 1.7130 - sparse_categorical_accuracy: 0.4180\n",
      "Epoch 6/12\n",
      "60000/60000 [==============================] - 2s 27us/sample - loss: 1.6264 - sparse_categorical_accuracy: 0.4958\n",
      "1000/1000 [==============================] - 0s 31us/sample - loss: 1.6214 - sparse_categorical_accuracy: 0.5120\n",
      "Epoch 7/12\n",
      "60000/60000 [==============================] - 2s 29us/sample - loss: 1.5494 - sparse_categorical_accuracy: 0.50131s - loss: 1.5438 - sparse_catego\n",
      "1000/1000 [==============================] - 0s 33us/sample - loss: 1.5479 - sparse_categorical_accuracy: 0.4960\n",
      "Epoch 8/12\n",
      "60000/60000 [==============================] - 2s 27us/sample - loss: 1.4961 - sparse_categorical_accuracy: 0.4821\n",
      "1000/1000 [==============================] - 0s 32us/sample - loss: 1.4967 - sparse_categorical_accuracy: 0.4970\n",
      "Epoch 9/12\n",
      "60000/60000 [==============================] - 2s 27us/sample - loss: 1.4437 - sparse_categorical_accuracy: 0.5014\n",
      "1000/1000 [==============================] - 0s 39us/sample - loss: 1.4424 - sparse_categorical_accuracy: 0.5100\n",
      "Epoch 10/12\n",
      "60000/60000 [==============================] - 2s 26us/sample - loss: 1.3996 - sparse_categorical_accuracy: 0.5276\n",
      "1000/1000 [==============================] - 0s 33us/sample - loss: 1.3986 - sparse_categorical_accuracy: 0.5350\n",
      "Epoch 11/12\n",
      "60000/60000 [==============================] - 2s 26us/sample - loss: 1.3713 - sparse_categorical_accuracy: 0.5159\n",
      "1000/1000 [==============================] - 0s 32us/sample - loss: 1.3690 - sparse_categorical_accuracy: 0.5260\n",
      "Epoch 12/12\n",
      "60000/60000 [==============================] - 2s 29us/sample - loss: 1.3434 - sparse_categorical_accuracy: 0.50121s - loss: 1.3386 - sparse_categorical_ - ETA: 0s - loss: 1.3437 - sparse_categorical_accuracy: \n",
      "1000/1000 [==============================] - 0s 33us/sample - loss: 1.3443 - sparse_categorical_accuracy: 0.5040\n",
      "Epoch 1/12\n",
      "60000/60000 [==============================] - 1s 25us/sample - loss: 1.3098 - sparse_categorical_accuracy: 0.5174\n",
      "1000/1000 [==============================] - 0s 34us/sample - loss: 1.3074 - sparse_categorical_accuracy: 0.5270\n",
      "Epoch 2/12\n",
      "60000/60000 [==============================] - 2s 29us/sample - loss: 1.3088 - sparse_categorical_accuracy: 0.5138\n",
      "1000/1000 [==============================] - 0s 32us/sample - loss: 1.3115 - sparse_categorical_accuracy: 0.5110\n",
      "Epoch 3/12\n",
      "60000/60000 [==============================] - 2s 27us/sample - loss: 1.2774 - sparse_categorical_accuracy: 0.5268\n",
      "1000/1000 [==============================] - 0s 33us/sample - loss: 1.2765 - sparse_categorical_accuracy: 0.5360\n",
      "Epoch 4/12\n",
      "60000/60000 [==============================] - 2s 25us/sample - loss: 1.2595 - sparse_categorical_accuracy: 0.5240\n",
      "1000/1000 [==============================] - 0s 32us/sample - loss: 1.2580 - sparse_categorical_accuracy: 0.5250\n",
      "Epoch 5/12\n",
      "60000/60000 [==============================] - 2s 26us/sample - loss: 1.2515 - sparse_categorical_accuracy: 0.5143\n",
      "1000/1000 [==============================] - 0s 32us/sample - loss: 1.2576 - sparse_categorical_accuracy: 0.5060\n",
      "Epoch 6/12\n",
      "60000/60000 [==============================] - 2s 29us/sample - loss: 1.2371 - sparse_categorical_accuracy: 0.5086\n",
      "1000/1000 [==============================] - 0s 38us/sample - loss: 1.2438 - sparse_categorical_accuracy: 0.5040\n",
      "Epoch 7/12\n",
      "60000/60000 [==============================] - 2s 27us/sample - loss: 1.2129 - sparse_categorical_accuracy: 0.5284\n",
      "1000/1000 [==============================] - 0s 36us/sample - loss: 1.2128 - sparse_categorical_accuracy: 0.5320\n",
      "Epoch 8/12\n",
      "60000/60000 [==============================] - 2s 27us/sample - loss: 1.1997 - sparse_categorical_accuracy: 0.5282\n",
      "1000/1000 [==============================] - 0s 35us/sample - loss: 1.2062 - sparse_categorical_accuracy: 0.5310\n",
      "Epoch 9/12\n",
      "60000/60000 [==============================] - 2s 29us/sample - loss: 1.1753 - sparse_categorical_accuracy: 0.5303\n",
      "1000/1000 [==============================] - 0s 34us/sample - loss: 1.1798 - sparse_categorical_accuracy: 0.5310\n",
      "Epoch 10/12\n",
      "60000/60000 [==============================] - 2s 30us/sample - loss: 1.1744 - sparse_categorical_accuracy: 0.5213\n",
      "1000/1000 [==============================] - 0s 32us/sample - loss: 1.1808 - sparse_categorical_accuracy: 0.5340\n",
      "Epoch 11/12\n",
      "60000/60000 [==============================] - 2s 26us/sample - loss: 1.1361 - sparse_categorical_accuracy: 0.5650\n",
      "1000/1000 [==============================] - 0s 34us/sample - loss: 1.1393 - sparse_categorical_accuracy: 0.5660\n",
      "Epoch 12/12\n",
      "60000/60000 [==============================] - 2s 37us/sample - loss: 1.1399 - sparse_categorical_accuracy: 0.5406\n",
      "1000/1000 [==============================] - 0s 44us/sample - loss: 1.1486 - sparse_categorical_accuracy: 0.5430\n",
      "Epoch 1/12\n",
      "60000/60000 [==============================] - 2s 34us/sample - loss: 1.1170 - sparse_categorical_accuracy: 0.5774\n",
      "1000/1000 [==============================] - 0s 37us/sample - loss: 1.1158 - sparse_categorical_accuracy: 0.5780\n",
      "Epoch 2/12\n",
      "60000/60000 [==============================] - 2s 34us/sample - loss: 1.1307 - sparse_categorical_accuracy: 0.5412\n",
      "1000/1000 [==============================] - 0s 46us/sample - loss: 1.1437 - sparse_categorical_accuracy: 0.5510\n",
      "Epoch 3/12\n",
      "60000/60000 [==============================] - 2s 34us/sample - loss: 1.0875 - sparse_categorical_accuracy: 0.5810\n",
      "1000/1000 [==============================] - 0s 37us/sample - loss: 1.0960 - sparse_categorical_accuracy: 0.5760\n",
      "Epoch 4/12\n",
      "60000/60000 [==============================] - 2s 37us/sample - loss: 1.0810 - sparse_categorical_accuracy: 0.5809\n",
      "1000/1000 [==============================] - 0s 40us/sample - loss: 1.0872 - sparse_categorical_accuracy: 0.5780\n",
      "Epoch 5/12\n",
      "60000/60000 [==============================] - 2s 37us/sample - loss: 1.1194 - sparse_categorical_accuracy: 0.5464\n",
      "1000/1000 [==============================] - 0s 40us/sample - loss: 1.1283 - sparse_categorical_accuracy: 0.5520\n",
      "Epoch 6/12\n",
      "60000/60000 [==============================] - 2s 34us/sample - loss: 1.0791 - sparse_categorical_accuracy: 0.57041s - loss: 1.0747 - sparse_ca\n",
      "1000/1000 [==============================] - 0s 38us/sample - loss: 1.0951 - sparse_categorical_accuracy: 0.5550\n",
      "Epoch 7/12\n",
      "60000/60000 [==============================] - 2s 37us/sample - loss: 1.0490 - sparse_categorical_accuracy: 0.60440s - loss: 1.0504 - sparse_categorical_accuracy: 0.6\n",
      "1000/1000 [==============================] - 0s 41us/sample - loss: 1.0556 - sparse_categorical_accuracy: 0.5930\n",
      "Epoch 8/12\n",
      "60000/60000 [==============================] - 2s 34us/sample - loss: 1.0647 - sparse_categorical_accuracy: 0.5875\n",
      "1000/1000 [==============================] - 0s 37us/sample - loss: 1.0808 - sparse_categorical_accuracy: 0.5710\n",
      "Epoch 9/12\n",
      "60000/60000 [==============================] - 2s 33us/sample - loss: 1.0351 - sparse_categorical_accuracy: 0.6115\n",
      "1000/1000 [==============================] - 0s 50us/sample - loss: 1.0405 - sparse_categorical_accuracy: 0.5980\n",
      "Epoch 10/12\n"
     ]
    },
    {
     "name": "stdout",
     "output_type": "stream",
     "text": [
      "60000/60000 [==============================] - 2s 33us/sample - loss: 1.0302 - sparse_categorical_accuracy: 0.6063\n",
      "1000/1000 [==============================] - 0s 39us/sample - loss: 1.0433 - sparse_categorical_accuracy: 0.5990\n",
      "Epoch 11/12\n",
      "60000/60000 [==============================] - 2s 36us/sample - loss: 1.0176 - sparse_categorical_accuracy: 0.6208\n",
      "1000/1000 [==============================] - 0s 51us/sample - loss: 1.0292 - sparse_categorical_accuracy: 0.6160\n",
      "Epoch 12/12\n",
      "60000/60000 [==============================] - 2s 36us/sample - loss: 1.0108 - sparse_categorical_accuracy: 0.6158\n",
      "1000/1000 [==============================] - 0s 37us/sample - loss: 1.0123 - sparse_categorical_accuracy: 0.6120\n",
      "Epoch 1/12\n",
      "60000/60000 [==============================] - 2s 34us/sample - loss: 0.9854 - sparse_categorical_accuracy: 0.6207\n",
      "1000/1000 [==============================] - 0s 44us/sample - loss: 0.9977 - sparse_categorical_accuracy: 0.6130\n",
      "Epoch 2/12\n",
      "60000/60000 [==============================] - 2s 35us/sample - loss: 1.0087 - sparse_categorical_accuracy: 0.5950\n",
      "1000/1000 [==============================] - 0s 43us/sample - loss: 1.0192 - sparse_categorical_accuracy: 0.5860\n",
      "Epoch 3/12\n",
      "60000/60000 [==============================] - 2s 32us/sample - loss: 0.9790 - sparse_categorical_accuracy: 0.6325\n",
      "1000/1000 [==============================] - 0s 35us/sample - loss: 0.9810 - sparse_categorical_accuracy: 0.6250\n",
      "Epoch 4/12\n",
      "60000/60000 [==============================] - 2s 39us/sample - loss: 0.9974 - sparse_categorical_accuracy: 0.6126\n",
      "1000/1000 [==============================] - 0s 39us/sample - loss: 1.0166 - sparse_categorical_accuracy: 0.5990\n",
      "Epoch 5/12\n",
      "60000/60000 [==============================] - 2s 36us/sample - loss: 0.9874 - sparse_categorical_accuracy: 0.6158\n",
      "1000/1000 [==============================] - 0s 39us/sample - loss: 0.9994 - sparse_categorical_accuracy: 0.6010\n",
      "Epoch 6/12\n",
      "60000/60000 [==============================] - 2s 33us/sample - loss: 0.9784 - sparse_categorical_accuracy: 0.6263\n",
      "1000/1000 [==============================] - 0s 63us/sample - loss: 0.9942 - sparse_categorical_accuracy: 0.6070\n",
      "Epoch 7/12\n",
      "60000/60000 [==============================] - 2s 38us/sample - loss: 0.9538 - sparse_categorical_accuracy: 0.6338\n",
      "1000/1000 [==============================] - 0s 36us/sample - loss: 0.9735 - sparse_categorical_accuracy: 0.6140\n",
      "Epoch 8/12\n",
      "60000/60000 [==============================] - 2s 33us/sample - loss: 0.9463 - sparse_categorical_accuracy: 0.6499\n",
      "1000/1000 [==============================] - 0s 38us/sample - loss: 0.9598 - sparse_categorical_accuracy: 0.6390\n",
      "Epoch 9/12\n",
      "60000/60000 [==============================] - 2s 34us/sample - loss: 0.9530 - sparse_categorical_accuracy: 0.6313\n",
      "1000/1000 [==============================] - 0s 35us/sample - loss: 0.9634 - sparse_categorical_accuracy: 0.6190\n",
      "Epoch 10/12\n",
      "60000/60000 [==============================] - 2s 33us/sample - loss: 0.9320 - sparse_categorical_accuracy: 0.6467\n",
      "1000/1000 [==============================] - 0s 43us/sample - loss: 0.9452 - sparse_categorical_accuracy: 0.6280\n",
      "Epoch 11/12\n",
      "60000/60000 [==============================] - 2s 32us/sample - loss: 0.9353 - sparse_categorical_accuracy: 0.6324\n",
      "1000/1000 [==============================] - 0s 43us/sample - loss: 0.9437 - sparse_categorical_accuracy: 0.6200\n",
      "Epoch 12/12\n",
      "60000/60000 [==============================] - 2s 35us/sample - loss: 0.9140 - sparse_categorical_accuracy: 0.6566\n",
      "1000/1000 [==============================] - 0s 37us/sample - loss: 0.9294 - sparse_categorical_accuracy: 0.6560\n",
      "Epoch 1/12\n",
      "60000/60000 [==============================] - 2s 34us/sample - loss: 0.9433 - sparse_categorical_accuracy: 0.6292\n",
      "1000/1000 [==============================] - 0s 40us/sample - loss: 0.9640 - sparse_categorical_accuracy: 0.6080\n",
      "Epoch 2/12\n",
      "60000/60000 [==============================] - 2s 34us/sample - loss: 0.9544 - sparse_categorical_accuracy: 0.62510s - loss: 0.9548 - sparse_categori\n",
      "1000/1000 [==============================] - 0s 39us/sample - loss: 0.9707 - sparse_categorical_accuracy: 0.6130\n",
      "Epoch 3/12\n",
      "60000/60000 [==============================] - 2s 37us/sample - loss: 0.9029 - sparse_categorical_accuracy: 0.6530\n",
      "1000/1000 [==============================] - 0s 42us/sample - loss: 0.9159 - sparse_categorical_accuracy: 0.6440\n",
      "Epoch 4/12\n",
      "60000/60000 [==============================] - 2s 36us/sample - loss: 0.9005 - sparse_categorical_accuracy: 0.64671s - loss: 0.8918 - spa\n",
      "1000/1000 [==============================] - 0s 40us/sample - loss: 0.9198 - sparse_categorical_accuracy: 0.6340\n",
      "Epoch 5/12\n",
      "60000/60000 [==============================] - 2s 37us/sample - loss: 0.8853 - sparse_categorical_accuracy: 0.66320s - loss: 0.8868 - sparse_categorical_accuracy: 0.\n",
      "1000/1000 [==============================] - 0s 40us/sample - loss: 0.8938 - sparse_categorical_accuracy: 0.6580\n",
      "Epoch 6/12\n",
      "60000/60000 [==============================] - 2s 33us/sample - loss: 0.9098 - sparse_categorical_accuracy: 0.6391\n",
      "1000/1000 [==============================] - 0s 42us/sample - loss: 0.9339 - sparse_categorical_accuracy: 0.6160\n",
      "Epoch 7/12\n",
      "60000/60000 [==============================] - 2s 37us/sample - loss: 0.9022 - sparse_categorical_accuracy: 0.6667\n",
      "1000/1000 [==============================] - 0s 42us/sample - loss: 0.9134 - sparse_categorical_accuracy: 0.6580\n",
      "Epoch 8/12\n",
      "60000/60000 [==============================] - 2s 36us/sample - loss: 0.9035 - sparse_categorical_accuracy: 0.6507\n",
      "1000/1000 [==============================] - 0s 41us/sample - loss: 0.9223 - sparse_categorical_accuracy: 0.6270\n",
      "Epoch 9/12\n",
      "60000/60000 [==============================] - 2s 37us/sample - loss: 0.8839 - sparse_categorical_accuracy: 0.66161s - loss: 0.8821 - sparse_ca\n",
      "1000/1000 [==============================] - 0s 64us/sample - loss: 0.9014 - sparse_categorical_accuracy: 0.6450\n",
      "Epoch 10/12\n",
      "60000/60000 [==============================] - 2s 37us/sample - loss: 0.9076 - sparse_categorical_accuracy: 0.6588\n",
      "1000/1000 [==============================] - 0s 40us/sample - loss: 0.9230 - sparse_categorical_accuracy: 0.6550\n",
      "Epoch 11/12\n",
      "60000/60000 [==============================] - 2s 36us/sample - loss: 0.8929 - sparse_categorical_accuracy: 0.6513\n",
      "1000/1000 [==============================] - 0s 39us/sample - loss: 0.9114 - sparse_categorical_accuracy: 0.6380\n",
      "Epoch 12/12\n",
      "60000/60000 [==============================] - 2s 37us/sample - loss: 0.8733 - sparse_categorical_accuracy: 0.6679\n",
      "1000/1000 [==============================] - 0s 42us/sample - loss: 0.8832 - sparse_categorical_accuracy: 0.6650\n"
     ]
    }
   ],
   "source": [
    "initial_model = create_compiled_keras_model(Div_data[0]['X'].shape[1])\n",
    "repeat = 5\n",
    "\n",
    "FedTrain = np.zeros((repeat, 12))\n",
    "FedTest = np.zeros((repeat, 12))\n",
    "FedAcc = np.zeros((repeat, 12))\n",
    "\n",
    "for i in range(repeat):\n",
    "    \n",
    "\n",
    "    for r in range(12):\n",
    "\n",
    "        deltas = []\n",
    "\n",
    "        for c in range(nparts):\n",
    "\n",
    "            federated_model = create_compiled_keras_model(Div_data[0]['X'].shape[1])\n",
    "\n",
    "            federated_model.set_weights(initial_model.get_weights())\n",
    "\n",
    "            history_callback = federated_model.fit(Div_data[c]['X'], ytrain[user_list[c]], \n",
    "                                                   batch_size=32, epochs=3, verbose=0)\n",
    "\n",
    "\n",
    "            delta = np.array(initial_model.get_weights()) - np.array(federated_model.get_weights())\n",
    "\n",
    "            deltas.append(delta)\n",
    "        print('Epoch {}/12'.format(r+1))\n",
    "        delt_av = (deltas[0] + deltas[1] + deltas[2] + deltas[3] + deltas[4]) / 5\n",
    "        new_weights = np.array(initial_model.get_weights()) - delt_av\n",
    "        initial_model.set_weights(new_weights)\n",
    "\n",
    "        FedTrain[i, r] = initial_model.evaluate(Xtrain, ytrain)[0]\n",
    "        validation = initial_model.evaluate(Xtest, ytest)\n",
    "        FedTest[i, r] = validation[0]\n",
    "        FedAcc[i, r] = validation[1]\n",
    "\n",
    "FedTrain = np.mean(FedTrain, axis=0)\n",
    "FedTest = np.mean(FedTest, axis=0)\n",
    "FedAcc = np.mean(FedAcc, axis=0)"
   ]
  },
  {
   "cell_type": "code",
   "execution_count": 0,
   "metadata": {
    "colab": {},
    "colab_type": "code",
    "id": "GAti-jviEYcb",
    "outputId": "93e2f52a-93e9-4658-b261-3797c1d35d2d",
    "scrolled": true
   },
   "outputs": [
    {
     "name": "stdout",
     "output_type": "stream",
     "text": [
      "Epoch 1/12\n",
      "500/500 [==============================] - 0s 146us/sample - loss: 2.2972 - sparse_categorical_accuracy: 0.1740\n",
      "200/200 [==============================] - 0s 43us/sample - loss: 2.2975 - sparse_categorical_accuracy: 0.1850\n",
      "Epoch 2/12\n",
      "500/500 [==============================] - 0s 57us/sample - loss: 2.2905 - sparse_categorical_accuracy: 0.2240\n",
      "200/200 [==============================] - 0s 42us/sample - loss: 2.2935 - sparse_categorical_accuracy: 0.2450\n",
      "Epoch 3/12\n",
      "500/500 [==============================] - 0s 33us/sample - loss: 2.2834 - sparse_categorical_accuracy: 0.2360\n",
      "200/200 [==============================] - 0s 59us/sample - loss: 2.2892 - sparse_categorical_accuracy: 0.2350\n",
      "Epoch 4/12\n",
      "500/500 [==============================] - 0s 36us/sample - loss: 2.2763 - sparse_categorical_accuracy: 0.2420\n",
      "200/200 [==============================] - 0s 48us/sample - loss: 2.2846 - sparse_categorical_accuracy: 0.2500\n",
      "Epoch 5/12\n",
      "500/500 [==============================] - 0s 33us/sample - loss: 2.2689 - sparse_categorical_accuracy: 0.2680\n",
      "200/200 [==============================] - 0s 43us/sample - loss: 2.2800 - sparse_categorical_accuracy: 0.2500\n",
      "Epoch 6/12\n",
      "500/500 [==============================] - 0s 34us/sample - loss: 2.2609 - sparse_categorical_accuracy: 0.2840\n",
      "200/200 [==============================] - 0s 42us/sample - loss: 2.2750 - sparse_categorical_accuracy: 0.2500\n",
      "Epoch 7/12\n",
      "500/500 [==============================] - 0s 32us/sample - loss: 2.2530 - sparse_categorical_accuracy: 0.2940\n",
      "200/200 [==============================] - 0s 45us/sample - loss: 2.2702 - sparse_categorical_accuracy: 0.2550\n",
      "Epoch 8/12\n",
      "500/500 [==============================] - 0s 36us/sample - loss: 2.2445 - sparse_categorical_accuracy: 0.3160\n",
      "200/200 [==============================] - 0s 50us/sample - loss: 2.2647 - sparse_categorical_accuracy: 0.2750\n",
      "Epoch 9/12\n",
      "500/500 [==============================] - 0s 31us/sample - loss: 2.2358 - sparse_categorical_accuracy: 0.3360\n",
      "200/200 [==============================] - 0s 44us/sample - loss: 2.2592 - sparse_categorical_accuracy: 0.2800\n",
      "Epoch 10/12\n",
      "500/500 [==============================] - 0s 31us/sample - loss: 2.2268 - sparse_categorical_accuracy: 0.3460\n",
      "200/200 [==============================] - 0s 49us/sample - loss: 2.2535 - sparse_categorical_accuracy: 0.2650\n",
      "Epoch 11/12\n",
      "500/500 [==============================] - 0s 31us/sample - loss: 2.2178 - sparse_categorical_accuracy: 0.3480\n",
      "200/200 [==============================] - 0s 52us/sample - loss: 2.2479 - sparse_categorical_accuracy: 0.2750\n",
      "Epoch 12/12\n",
      "500/500 [==============================] - 0s 39us/sample - loss: 2.2081 - sparse_categorical_accuracy: 0.3540\n",
      "200/200 [==============================] - 0s 81us/sample - loss: 2.2418 - sparse_categorical_accuracy: 0.2850\n"
     ]
    }
   ],
   "source": [
    "# initial_model = create_compiled_keras_model(Div_data_dc[0].shape[1])\n",
    "\n",
    "# DCFedTrain = []\n",
    "# DCFedTest = []\n",
    "# DCFedAcc = []\n",
    "\n",
    "# for r in range(12):\n",
    "    \n",
    "#     deltas = []\n",
    "\n",
    "#     for c in range(nparts):\n",
    "\n",
    "#         federated_model = create_compiled_keras_model(Div_data_dc[0].shape[1])\n",
    "\n",
    "#         federated_model.set_weights(initial_model.get_weights())\n",
    "\n",
    "#         history_callback = federated_model.fit(Div_data_dc[c], Div_data[c]['y'], \n",
    "#                                                batch_size=32, epochs=1, verbose=0)\n",
    "\n",
    "        \n",
    "#         delta = np.array(initial_model.get_weights()) - np.array(federated_model.get_weights())\n",
    "\n",
    "#         deltas.append(delta)\n",
    "#     print('Epoch {}/12'.format(r+1))\n",
    "#     delt_av = (deltas[0] + deltas[1] + deltas[2] + deltas[3] + deltas[4]) / 5\n",
    "#     new_weights = np.array(initial_model.get_weights()) - delt_av\n",
    "#     initial_model.set_weights(new_weights)\n",
    "    \n",
    "#     DCFedTrain.append(initial_model.evaluate(X_dc, ytrain)[0])\n",
    "#     validation = initial_model.evaluate(X_test_dc, ytest)\n",
    "#     DCFedTest.append(validation[0])\n",
    "#     DCFedAcc.append(validation[1])"
   ]
  },
  {
   "cell_type": "code",
   "execution_count": 13,
   "metadata": {
    "colab": {},
    "colab_type": "code",
    "id": "eAmdBJGKEYcd",
    "outputId": "754426be-6816-43ff-9e43-c60cb3e1e844"
   },
   "outputs": [
    {
     "data": {
      "text/plain": [
       "Text(0.5, 1.0, 'Validation Accuracy, NN')"
      ]
     },
     "execution_count": 13,
     "metadata": {},
     "output_type": "execute_result"
    },
    {
     "data": {
      "image/png": "[encoded data removed]",
      "text/plain": [
       "<Figure size 1296x360 with 3 Axes>"
      ]
     },
     "metadata": {},
     "output_type": "display_data"
    }
   ],
   "source": [
    "fig, ax = plt.subplots(1, 3, figsize=(18,5))\n",
    "\n",
    "\n",
    "ax[0].plot(cntr_history_callback.history['loss'], '-o', label='centralized')\n",
    "ax[0].plot(ind_history_callback.history['loss'], '-.', label='individual')\n",
    "ax[0].plot(dc_history_callback.history['loss'], '-+',label='data collaboration')\n",
    "ax[0].plot(FedTrain, label='federated learning')\n",
    "# ax[0].plot(DCFedTrain, label='dc federated learning')\n",
    "ax[0].set_xlabel('Epochs')\n",
    "ax[0].legend()\n",
    "ax[0].set_title('Training Loss, NN')\n",
    "\n",
    "ax[1].plot(cntr_history_callback.history['val_loss'], '-o',label='centralized')\n",
    "ax[1].plot(ind_history_callback.history['val_loss'], '-.',label='individual')\n",
    "ax[1].plot(dc_history_callback.history['val_loss'], '-+', label='data collaboration')\n",
    "ax[1].plot(FedTest, label='federated learning')\n",
    "# ax[1].plot(DCFedTest, label='dc federated learning')\n",
    "ax[1].set_xlabel('Epochs')\n",
    "ax[1].legend()\n",
    "ax[1].set_title('Validation Loss, NN')\n",
    "\n",
    "ax[2].plot(cntr_history_callback.history['val_sparse_categorical_accuracy'], '-o', label='centralized')\n",
    "ax[2].plot(ind_history_callback.history['val_sparse_categorical_accuracy'], '-.', label='individual')\n",
    "ax[2].plot(dc_history_callback.history['val_sparse_categorical_accuracy'], '-+', label='data collaboration')\n",
    "ax[2].plot(FedAcc, label='federated learning')\n",
    "# ax[2].plot(DCFedAcc, label='dc federated learning')\n",
    "ax[2].set_xlabel('Epochs')\n",
    "ax[2].legend()\n",
    "ax[2].set_title('Validation Accuracy, NN')"
   ]
  },
  {
   "cell_type": "markdown",
   "metadata": {
    "colab": {},
    "colab_type": "code",
    "id": "B4zq0gpdEYcf"
   },
   "source": [
    "ホーン，もしかしたらサンプリングが完全なNon-IIDの時はDCの方が優れているかもしれない？\n",
    "\n",
    "と思ったけど完全なNon-iidの実験を再現できない問題．うぜぇ．\n",
    "\n",
    "やっと原因わかりました．AnnaさんがXtestをanchorにしてたからだった．"
   ]
  },
  {
   "cell_type": "code",
   "execution_count": null,
   "metadata": {},
   "outputs": [],
   "source": []
  }
 ],
 "metadata": {
  "colab": {
   "name": "Copy of DataCollab_mnist-new.ipynb",
   "provenance": []
  },
  "kernelspec": {
   "display_name": "Python 3.7.7 64-bit ('Data_collab': pipenv)",
   "language": "python",
   "name": "python37764bitdatacollabpipenv3bd4e1c144df4d28937f35a4233efa88"
  },
  "language_info": {
   "codemirror_mode": {
    "name": "ipython",
    "version": 3
   },
   "file_extension": ".py",
   "mimetype": "text/x-python",
   "name": "python",
   "nbconvert_exporter": "python",
   "pygments_lexer": "ipython3",
   "version": "3.7.7"
  },
  "toc": {
   "base_numbering": 1,
   "nav_menu": {},
   "number_sections": true,
   "sideBar": true,
   "skip_h1_title": false,
   "title_cell": "Table of Contents",
   "title_sidebar": "Contents",
   "toc_cell": false,
   "toc_position": {},
   "toc_section_display": true,
   "toc_window_display": false
  }
 },
 "nbformat": 4,
 "nbformat_minor": 1
}
